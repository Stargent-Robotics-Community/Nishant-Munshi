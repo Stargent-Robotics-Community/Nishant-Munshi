{
 "cells": [
  {
   "cell_type": "code",
   "execution_count": null,
   "id": "94315a2a",
   "metadata": {},
   "outputs": [],
   "source": [
    "# Practice Questions"
   ]
  },
  {
   "cell_type": "code",
   "execution_count": null,
   "id": "da03bd14",
   "metadata": {},
   "outputs": [],
   "source": [
    "\"\"\"\n",
    "Q1: Create a list of your favourite Tv shows and movies. After creating the list of at least 4 items,\n",
    "    iterate over the whole list and print it's elements.\n",
    "\n",
    "\"\"\""
   ]
  },
  {
   "cell_type": "code",
   "execution_count": 1,
   "id": "fc975536",
   "metadata": {},
   "outputs": [],
   "source": [
    "FavShow = ['Iron Fist','Joker','Your Name','A Silent Voice','Weathering With You']   # Creating a List\n"
   ]
  },
  {
   "cell_type": "code",
   "execution_count": 2,
   "id": "69c8e2ee",
   "metadata": {},
   "outputs": [],
   "source": [
    "#Using for loop"
   ]
  },
  {
   "cell_type": "code",
   "execution_count": 3,
   "id": "1db2e3c3",
   "metadata": {},
   "outputs": [
    {
     "name": "stdout",
     "output_type": "stream",
     "text": [
      "Iron Fist\n",
      "Joker\n",
      "Your Name\n",
      "A Silent Voice\n",
      "Weathering With You\n"
     ]
    }
   ],
   "source": [
    "for i in FavShow:\n",
    "    print(i)"
   ]
  },
  {
   "cell_type": "code",
   "execution_count": null,
   "id": "4bb6ae19",
   "metadata": {
    "scrolled": true
   },
   "outputs": [],
   "source": [
    "\"\"\"\n",
    "Q2: Now ask the user to enter 2 of his favourite Tv show. Take that as input and then use the append() \n",
    "    function to add those inputs into the list.\n",
    "    \n",
    "\"\"\""
   ]
  },
  {
   "cell_type": "code",
   "execution_count": 4,
   "id": "f483de9f",
   "metadata": {},
   "outputs": [
    {
     "name": "stdout",
     "output_type": "stream",
     "text": [
      "Enter 2 of your Favourite Tv Shows: \n",
      "Loki\n",
      "Logan\n",
      "['Iron Fist', 'Joker', 'Your Name', 'A Silent Voice', 'Weathering With You', 'Loki', 'Logan']\n"
     ]
    }
   ],
   "source": [
    "n=2\n",
    "#The shows are to be entered\n",
    "print(\"Enter 2 of your Favourite Tv Shows: \")\n",
    "while n>0:\n",
    "    #Here the input of shows will be taken and list will be updated using append function\n",
    "    add=input()\n",
    "    FavShow.append(add)#append function used\n",
    "    n = n-1\n",
    "print(FavShow)     "
   ]
  },
  {
   "cell_type": "code",
   "execution_count": null,
   "id": "36f50261",
   "metadata": {},
   "outputs": [],
   "source": [
    "\"\"\"\n",
    "Q3: Use slicing to print every 2nd element from the list starting from the second element. \n",
    "\n",
    "\"\"\""
   ]
  },
  {
   "cell_type": "code",
   "execution_count": 5,
   "id": "c73a23b3",
   "metadata": {},
   "outputs": [
    {
     "data": {
      "text/plain": [
       "['Joker', 'A Silent Voice', 'Loki']"
      ]
     },
     "execution_count": 5,
     "metadata": {},
     "output_type": "execute_result"
    }
   ],
   "source": [
    "#Slicing is shown below\n",
    "FavShow[1::2]"
   ]
  },
  {
   "cell_type": "code",
   "execution_count": null,
   "id": "869b7ef7",
   "metadata": {},
   "outputs": [],
   "source": [
    "\"\"\"\n",
    "Q4: Create a list of 5 integers and use a while loop to calculate their sum\n",
    "\n",
    "\"\"\""
   ]
  },
  {
   "cell_type": "code",
   "execution_count": 6,
   "id": "54d399db",
   "metadata": {},
   "outputs": [],
   "source": [
    "lst = [23,34,65,23,12]\n"
   ]
  },
  {
   "cell_type": "code",
   "execution_count": 7,
   "id": "b40469b4",
   "metadata": {},
   "outputs": [
    {
     "name": "stdout",
     "output_type": "stream",
     "text": [
      "Sum of 5 integer is: 157\n"
     ]
    }
   ],
   "source": [
    "n=0\n",
    "total=0\n",
    "while n<5:\n",
    "    #total will take the sum of 5 integers in list\n",
    "    total= total + lst[n]\n",
    "    n=n+1\n",
    "print(\"Sum of 5 integer is:\",total)    "
   ]
  },
  {
   "cell_type": "code",
   "execution_count": null,
   "id": "e6dca951",
   "metadata": {},
   "outputs": [],
   "source": [
    "\"\"\"\n",
    "Q5: Print the following pattern using a loop:\n",
    "    \n",
    "    1\n",
    "    12\n",
    "    123\n",
    "    1234\n",
    "    12345\n",
    "\n",
    "\"\"\""
   ]
  },
  {
   "cell_type": "code",
   "execution_count": 15,
   "id": "2faac478",
   "metadata": {},
   "outputs": [
    {
     "name": "stdout",
     "output_type": "stream",
     "text": [
      "Enter the number of rows: 5\n",
      "1\n",
      "12\n",
      "123\n",
      "1234\n",
      "12345\n"
     ]
    }
   ],
   "source": [
    "x= int(input(\"Enter the number of rows: \"))\n",
    "#To print number of rows\n",
    "for i in range(1,x+1):\n",
    "   #To print number of columns\n",
    "    for j in range(1,i+1):\n",
    "        print(j,end='')\n",
    "    print(\"\")\n",
    "    "
   ]
  },
  {
   "cell_type": "code",
   "execution_count": null,
   "id": "05822ae0",
   "metadata": {},
   "outputs": [],
   "source": []
  }
 ],
 "metadata": {
  "kernelspec": {
   "display_name": "Python 3",
   "language": "python",
   "name": "python3"
  },
  "language_info": {
   "codemirror_mode": {
    "name": "ipython",
    "version": 3
   },
   "file_extension": ".py",
   "mimetype": "text/x-python",
   "name": "python",
   "nbconvert_exporter": "python",
   "pygments_lexer": "ipython3",
   "version": "3.8.8"
  }
 },
 "nbformat": 4,
 "nbformat_minor": 5
}
